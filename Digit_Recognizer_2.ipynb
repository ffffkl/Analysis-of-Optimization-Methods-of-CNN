{
 "cells": [
  {
   "cell_type": "code",
   "execution_count": 2,
   "id": "74285125",
   "metadata": {},
   "outputs": [
    {
     "name": "stdout",
     "output_type": "stream",
     "text": [
      "Train Shape: (42000, 785)\n",
      "Test Shape: (28000, 784)\n"
     ]
    }
   ],
   "source": [
    "import numpy as np\n",
    "import pandas as pd\n",
    "import time\n",
    "\n",
    "# Tensorflow/Keras\n",
    "import tensorflow as tf\n",
    "from tensorflow import keras\n",
    "from tensorflow.keras import layers\n",
    "from tensorflow.keras.callbacks import EarlyStopping\n",
    "\n",
    "from sklearn.preprocessing import MinMaxScaler\n",
    "\n",
    "# Plotting\n",
    "import matplotlib.pyplot as plt\n",
    "%matplotlib inline\n",
    "\n",
    "# Logging/Warnings\n",
    "import warnings\n",
    "warnings.filterwarnings('ignore')\n",
    "tf.autograph.set_verbosity(0)\n",
    "\n",
    "# Load data\n",
    "submission = pd.read_csv('sample_submission.csv')\n",
    "train = pd.read_csv('train.csv')\n",
    "test = pd.read_csv('test.csv')\n",
    "\n",
    "features = [x for x in train.columns if x != 'label']\n",
    "\n",
    "print(\"Train Shape:\", train.shape)\n",
    "print(\"Test Shape:\", test.shape)\n",
    "y = train[\"label\"]\n",
    "X = train.drop(\"label\",axis=1)\n",
    "X_test = test"
   ]
  },
  {
   "cell_type": "code",
   "execution_count": 3,
   "id": "0b1ded6d",
   "metadata": {},
   "outputs": [],
   "source": [
    "from sklearn.model_selection import train_test_split\n",
    "INPUT_SIZE = (28,28,1)\n",
    "NUM_CLASSES = 10\n",
    "scaler = MinMaxScaler()\n",
    "\n",
    "X_train, X_valid, y_train, y_valid = train_test_split(X, y, test_size=0.2, random_state=41)\n",
    "X_train = scaler.fit_transform(X_train)\n",
    "X_valid = scaler.transform(X_valid)\n",
    "X_test = scaler.transform(test)   \n",
    "# Convert training examples to shape (28,28,1)\n",
    "X_train = np.reshape(X_train, (X_train.shape[0], *INPUT_SIZE))\n",
    "X_valid = np.reshape(X_valid, (X_valid.shape[0], *INPUT_SIZE))\n",
    "X_test = np.reshape(X_test, (X_test.shape[0], *INPUT_SIZE))\n",
    "        \n",
    "# Convert target vectors for keras input\n",
    "Y_train = keras.utils.to_categorical(y_train, NUM_CLASSES)\n",
    "Y_valid = keras.utils.to_categorical(y_valid, NUM_CLASSES)"
   ]
  },
  {
   "cell_type": "code",
   "execution_count": 6,
   "id": "49ea535f",
   "metadata": {},
   "outputs": [
    {
     "name": "stdout",
     "output_type": "stream",
     "text": [
      "Model: \"model\"\n",
      "_________________________________________________________________\n",
      "Layer (type)                 Output Shape              Param #   \n",
      "=================================================================\n",
      "input_3 (InputLayer)         [(None, 28, 28, 1)]       0         \n",
      "_________________________________________________________________\n",
      "conv2d_3 (Conv2D)            (None, 14, 14, 16)        272       \n",
      "_________________________________________________________________\n",
      "max_pooling2d_2 (MaxPooling2 (None, 7, 7, 16)          0         \n",
      "_________________________________________________________________\n",
      "conv2d_4 (Conv2D)            (None, 7, 7, 32)          4640      \n",
      "_________________________________________________________________\n",
      "max_pooling2d_3 (MaxPooling2 (None, 3, 3, 32)          0         \n",
      "_________________________________________________________________\n",
      "conv2d_5 (Conv2D)            (None, 3, 3, 64)          51264     \n",
      "_________________________________________________________________\n",
      "flatten_1 (Flatten)          (None, 576)               0         \n",
      "_________________________________________________________________\n",
      "dense_3 (Dense)              (None, 128)               73856     \n",
      "_________________________________________________________________\n",
      "dense_4 (Dense)              (None, 64)                8256      \n",
      "_________________________________________________________________\n",
      "dense_5 (Dense)              (None, 10)                650       \n",
      "=================================================================\n",
      "Total params: 138,938\n",
      "Trainable params: 138,938\n",
      "Non-trainable params: 0\n",
      "_________________________________________________________________\n"
     ]
    }
   ],
   "source": [
    "from tensorflow.keras.models import Sequential\n",
    "from tensorflow.keras.layers import Conv2D, MaxPooling2D, Dense, Dropout, Flatten\n",
    "from tensorflow.keras.optimizers import Adam\n",
    "\n",
    "inp = keras.Input(shape = INPUT_SIZE)\n",
    "x = layers.Conv2D(16, 4,strides=2, padding=\"same\", activation=\"relu\")(inp)\n",
    "x = layers.MaxPooling2D(pool_size=(2, 2))(x)\n",
    "x = layers.Conv2D(32, 3,strides=1, padding=\"same\", activation=\"relu\")(x)\n",
    "x = layers.MaxPooling2D(pool_size=(2, 2))(x)\n",
    "x = layers.Conv2D(64, 5,strides=1, padding=\"same\", activation=\"relu\")(x)\n",
    "\n",
    "x = layers.Flatten()(x)\n",
    "x = layers.Dense(128, activation=\"relu\")(x)\n",
    "x = layers.Dense(64, activation=\"relu\")(x)\n",
    "out = layers.Dense(10, activation=\"softmax\")(x)\n",
    "\n",
    "model = keras.Model(inp, out, name=\"model\")\n",
    "model.summary()"
   ]
  },
  {
   "cell_type": "code",
   "execution_count": 7,
   "id": "1237b80d",
   "metadata": {},
   "outputs": [
    {
     "name": "stdout",
     "output_type": "stream",
     "text": [
      "Model: \"sequential_1\"\n",
      "_________________________________________________________________\n",
      "Layer (type)                 Output Shape              Param #   \n",
      "=================================================================\n",
      "conv2d_6 (Conv2D)            (None, 14, 14, 16)        272       \n",
      "_________________________________________________________________\n",
      "max_pooling2d_4 (MaxPooling2 (None, 7, 7, 16)          0         \n",
      "_________________________________________________________________\n",
      "conv2d_7 (Conv2D)            (None, 7, 7, 32)          4640      \n",
      "_________________________________________________________________\n",
      "max_pooling2d_5 (MaxPooling2 (None, 3, 3, 32)          0         \n",
      "_________________________________________________________________\n",
      "conv2d_8 (Conv2D)            (None, 3, 3, 64)          51264     \n",
      "_________________________________________________________________\n",
      "flatten_2 (Flatten)          (None, 576)               0         \n",
      "_________________________________________________________________\n",
      "dense_6 (Dense)              (None, 128)               73856     \n",
      "_________________________________________________________________\n",
      "dense_7 (Dense)              (None, 64)                8256      \n",
      "_________________________________________________________________\n",
      "dense_8 (Dense)              (None, 10)                650       \n",
      "=================================================================\n",
      "Total params: 138,938\n",
      "Trainable params: 138,938\n",
      "Non-trainable params: 0\n",
      "_________________________________________________________________\n"
     ]
    }
   ],
   "source": [
    "from tensorflow.keras.models import Sequential\n",
    "from tensorflow.keras.layers import Conv2D, MaxPooling2D, Dense, Dropout, Flatten\n",
    "from tensorflow.keras.optimizers import Adam\n",
    "inp = keras.Input(shape = INPUT_SIZE)\n",
    "model = keras.Sequential()\n",
    "model.add(inp)\n",
    "model.add(Conv2D(16, 4,strides=2, padding=\"same\", activation=\"relu\"))\n",
    "model.add(MaxPooling2D(pool_size=(2, 2)))\n",
    "model.add(Conv2D(32, 3,strides=1, padding=\"same\", activation=\"relu\"))\n",
    "model.add(MaxPooling2D(pool_size=(2, 2)))\n",
    "model.add(Conv2D(64, 5,strides=1, padding=\"same\", activation=\"relu\"))\n",
    "model.add(Flatten())\n",
    "model.add(Dense(128, activation=\"relu\"))\n",
    "model.add(Dense(64, activation=\"relu\"))\n",
    "model.add(Dense(10, activation=\"softmax\"))\n",
    "model.summary()"
   ]
  },
  {
   "cell_type": "code",
   "execution_count": 8,
   "id": "d7eeeb0f",
   "metadata": {},
   "outputs": [
    {
     "data": {
      "image/png": "[encoded data removed]",
      "text/plain": [
       "<Figure size 432x288 with 1 Axes>"
      ]
     },
     "metadata": {
      "needs_background": "light"
     },
     "output_type": "display_data"
    }
   ],
   "source": [
    "def get_lr_callback(epoch,lr):\n",
    "    lr_start   = 0.00001\n",
    "    lr_max     = 0.01#0.00000125 * 1 * batch_size\n",
    "    lr_min     = 0.0001\n",
    "    lr_ramp_ep = 2\n",
    "    lr_sus_ep  = 1\n",
    "    lr_decay   = 0.7\n",
    "    \n",
    "    def lrfn(epoch):\n",
    "        if epoch < lr_ramp_ep: lr = (lr_max - lr_start) / lr_ramp_ep * epoch + lr_start\n",
    "        elif epoch < lr_ramp_ep + lr_sus_ep: lr = lr_max\n",
    "        else:\n",
    "            lr = (lr_max - lr_min) * lr_decay**(epoch - lr_ramp_ep - lr_sus_ep) + lr_min\n",
    "        return lr\n",
    "    \n",
    "    return lrfn(epoch)\n",
    "\n",
    "lr_callback = tf.keras.callbacks.LearningRateScheduler(get_lr_callback, verbose=True)\n",
    "x = [x for x in range(60)]\n",
    "plt.plot(x,[get_lr_callback(x,.1) for x in x])\n",
    "plt.show()"
   ]
  },
  {
   "cell_type": "code",
   "execution_count": 9,
   "id": "3dcd6d63",
   "metadata": {},
   "outputs": [],
   "source": [
    "model.compile(loss = tf.keras.losses.CategoricalCrossentropy(), \n",
    "                optimizer = tf.keras.optimizers.Adam(), \n",
    "                metrics=[tf.keras.metrics.CategoricalAccuracy()])"
   ]
  },
  {
   "cell_type": "code",
   "execution_count": 10,
   "id": "06b05a37",
   "metadata": {},
   "outputs": [
    {
     "name": "stdout",
     "output_type": "stream",
     "text": [
      "Epoch 1/20\n",
      "\n",
      "Epoch 00001: LearningRateScheduler setting learning rate to 1e-05.\n",
      "525/525 [==============================] - 5s 5ms/step - loss: 2.2539 - categorical_accuracy: 0.2200 - val_loss: 2.1724 - val_categorical_accuracy: 0.3211\n",
      "Epoch 2/20\n",
      "\n",
      "Epoch 00002: LearningRateScheduler setting learning rate to 0.005005.\n",
      "525/525 [==============================] - 2s 4ms/step - loss: 0.2497 - categorical_accuracy: 0.9234 - val_loss: 0.1066 - val_categorical_accuracy: 0.9708\n",
      "Epoch 3/20\n",
      "\n",
      "Epoch 00003: LearningRateScheduler setting learning rate to 0.01.\n",
      "525/525 [==============================] - 2s 4ms/step - loss: 0.1603 - categorical_accuracy: 0.9569 - val_loss: 0.1801 - val_categorical_accuracy: 0.9611\n",
      "Epoch 4/20\n",
      "\n",
      "Epoch 00004: LearningRateScheduler setting learning rate to 0.01.\n",
      "525/525 [==============================] - 2s 5ms/step - loss: 0.1268 - categorical_accuracy: 0.9671 - val_loss: 0.1604 - val_categorical_accuracy: 0.9662\n",
      "Epoch 5/20\n",
      "\n",
      "Epoch 00005: LearningRateScheduler setting learning rate to 0.007030000000000001.\n",
      "525/525 [==============================] - 2s 5ms/step - loss: 0.0789 - categorical_accuracy: 0.9794 - val_loss: 0.1217 - val_categorical_accuracy: 0.9738\n",
      "Epoch 6/20\n",
      "\n",
      "Epoch 00006: LearningRateScheduler setting learning rate to 0.004951.\n",
      "525/525 [==============================] - 2s 4ms/step - loss: 0.0472 - categorical_accuracy: 0.9874 - val_loss: 0.0897 - val_categorical_accuracy: 0.9800\n",
      "Epoch 7/20\n",
      "\n",
      "Epoch 00007: LearningRateScheduler setting learning rate to 0.003495699999999999.\n",
      "525/525 [==============================] - 2s 4ms/step - loss: 0.0309 - categorical_accuracy: 0.9910 - val_loss: 0.0998 - val_categorical_accuracy: 0.9808\n",
      "Epoch 8/20\n",
      "\n",
      "Epoch 00008: LearningRateScheduler setting learning rate to 0.0024769899999999997.\n",
      "525/525 [==============================] - 2s 5ms/step - loss: 0.0199 - categorical_accuracy: 0.9942 - val_loss: 0.0853 - val_categorical_accuracy: 0.9835\n",
      "Epoch 9/20\n",
      "\n",
      "Epoch 00009: LearningRateScheduler setting learning rate to 0.0017638929999999997.\n",
      "525/525 [==============================] - 3s 5ms/step - loss: 0.0109 - categorical_accuracy: 0.9965 - val_loss: 0.1004 - val_categorical_accuracy: 0.9830\n",
      "Epoch 10/20\n",
      "\n",
      "Epoch 00010: LearningRateScheduler setting learning rate to 0.0012647250999999998.\n",
      "525/525 [==============================] - 3s 5ms/step - loss: 0.0069 - categorical_accuracy: 0.9976 - val_loss: 0.1074 - val_categorical_accuracy: 0.9827\n",
      "Epoch 11/20\n",
      "\n",
      "Epoch 00011: LearningRateScheduler setting learning rate to 0.0009153075699999998.\n",
      "525/525 [==============================] - 3s 5ms/step - loss: 0.0039 - categorical_accuracy: 0.9988 - val_loss: 0.1155 - val_categorical_accuracy: 0.9838\n",
      "Epoch 12/20\n",
      "\n",
      "Epoch 00012: LearningRateScheduler setting learning rate to 0.0006707152989999998.\n",
      "525/525 [==============================] - 3s 5ms/step - loss: 0.0027 - categorical_accuracy: 0.9992 - val_loss: 0.1260 - val_categorical_accuracy: 0.9839\n",
      "Epoch 13/20\n",
      "\n",
      "Epoch 00013: LearningRateScheduler setting learning rate to 0.0004995007092999999.\n",
      "525/525 [==============================] - 3s 5ms/step - loss: 0.0017 - categorical_accuracy: 0.9997 - val_loss: 0.1306 - val_categorical_accuracy: 0.9842\n",
      "Epoch 14/20\n",
      "\n",
      "Epoch 00014: LearningRateScheduler setting learning rate to 0.0003796504965099998.\n",
      "525/525 [==============================] - 3s 5ms/step - loss: 0.0013 - categorical_accuracy: 0.9997 - val_loss: 0.1354 - val_categorical_accuracy: 0.9836\n",
      "Epoch 15/20\n",
      "\n",
      "Epoch 00015: LearningRateScheduler setting learning rate to 0.0002957553475569999.\n",
      "525/525 [==============================] - 3s 5ms/step - loss: 9.6939e-04 - categorical_accuracy: 0.9998 - val_loss: 0.1429 - val_categorical_accuracy: 0.9843\n",
      "Epoch 16/20\n",
      "\n",
      "Epoch 00016: LearningRateScheduler setting learning rate to 0.00023702874328989992.\n",
      "525/525 [==============================] - 3s 5ms/step - loss: 7.9586e-04 - categorical_accuracy: 0.9998 - val_loss: 0.1480 - val_categorical_accuracy: 0.9840\n",
      "Epoch 17/20\n",
      "\n",
      "Epoch 00017: LearningRateScheduler setting learning rate to 0.00019592012030292993.\n",
      "525/525 [==============================] - 3s 5ms/step - loss: 6.6706e-04 - categorical_accuracy: 0.9999 - val_loss: 0.1525 - val_categorical_accuracy: 0.9842\n",
      "Epoch 18/20\n",
      "\n",
      "Epoch 00018: LearningRateScheduler setting learning rate to 0.00016714408421205095.\n",
      "525/525 [==============================] - 3s 5ms/step - loss: 5.8053e-04 - categorical_accuracy: 0.9999 - val_loss: 0.1570 - val_categorical_accuracy: 0.9837\n",
      "Epoch 19/20\n",
      "\n",
      "Epoch 00019: LearningRateScheduler setting learning rate to 0.00014700085894843568.\n",
      "525/525 [==============================] - 3s 5ms/step - loss: 5.0683e-04 - categorical_accuracy: 0.9999 - val_loss: 0.1615 - val_categorical_accuracy: 0.9837\n",
      "Epoch 20/20\n",
      "\n",
      "Epoch 00020: LearningRateScheduler setting learning rate to 0.00013290060126390496.\n",
      "525/525 [==============================] - 3s 5ms/step - loss: 4.5431e-04 - categorical_accuracy: 0.9999 - val_loss: 0.1645 - val_categorical_accuracy: 0.9839\n"
     ]
    }
   ],
   "source": [
    "history = model.fit(X_train, Y_train,validation_data = (X_valid, Y_valid),batch_size = 64,epochs = 20,callbacks=[lr_callback])"
   ]
  },
  {
   "cell_type": "code",
   "execution_count": 11,
   "id": "5cd4a37b",
   "metadata": {},
   "outputs": [
    {
     "data": {
      "image/png": "[encoded data removed]",
      "text/plain": [
       "<Figure size 432x288 with 1 Axes>"
      ]
     },
     "metadata": {
      "needs_background": "light"
     },
     "output_type": "display_data"
    }
   ],
   "source": [
    "plt.plot(history.history['loss'][1:])\n",
    "plt.plot(history.history['val_loss'][1:])\n",
    "plt.title('model loss')\n",
    "plt.ylabel('loss')\n",
    "plt.xlabel('epoch')\n",
    "plt.legend(['train', 'val'], loc='upper left')\n",
    "plt.show()"
   ]
  },
  {
   "cell_type": "code",
   "execution_count": 12,
   "id": "3533b92a",
   "metadata": {},
   "outputs": [],
   "source": [
    "from tensorflow.keras.preprocessing.image import ImageDataGenerator\n",
    "datagen = ImageDataGenerator(\n",
    "                            rotation_range=10,\n",
    "                            zoom_range = 0.2, \n",
    "                            width_shift_range=0.1, \n",
    "                            height_shift_range=0.1)\n",
    "                        \n",
    "\n",
    "datagen.fit(X_train)"
   ]
  },
  {
   "cell_type": "code",
   "execution_count": 19,
   "id": "551fbdf0",
   "metadata": {},
   "outputs": [
    {
     "name": "stdout",
     "output_type": "stream",
     "text": [
      "Model: \"sequential_6\"\n",
      "_________________________________________________________________\n",
      "Layer (type)                 Output Shape              Param #   \n",
      "=================================================================\n",
      "conv2d_11 (Conv2D)           (None, 14, 14, 16)        272       \n",
      "_________________________________________________________________\n",
      "batch_normalization_1 (Batch (None, 14, 14, 16)        64        \n",
      "_________________________________________________________________\n",
      "dropout_2 (Dropout)          (None, 14, 14, 16)        0         \n",
      "_________________________________________________________________\n",
      "max_pooling2d_7 (MaxPooling2 (None, 7, 7, 16)          0         \n",
      "_________________________________________________________________\n",
      "conv2d_12 (Conv2D)           (None, 7, 7, 32)          4640      \n",
      "_________________________________________________________________\n",
      "dropout_3 (Dropout)          (None, 7, 7, 32)          0         \n",
      "_________________________________________________________________\n",
      "batch_normalization_2 (Batch (None, 7, 7, 32)          128       \n",
      "_________________________________________________________________\n",
      "max_pooling2d_8 (MaxPooling2 (None, 3, 3, 32)          0         \n",
      "_________________________________________________________________\n",
      "conv2d_13 (Conv2D)           (None, 3, 3, 64)          51264     \n",
      "_________________________________________________________________\n",
      "dropout_4 (Dropout)          (None, 3, 3, 64)          0         \n",
      "_________________________________________________________________\n",
      "batch_normalization_3 (Batch (None, 3, 3, 64)          256       \n",
      "_________________________________________________________________\n",
      "flatten_3 (Flatten)          (None, 576)               0         \n",
      "_________________________________________________________________\n",
      "dense_9 (Dense)              (None, 128)               73856     \n",
      "_________________________________________________________________\n",
      "dense_10 (Dense)             (None, 64)                8256      \n",
      "_________________________________________________________________\n",
      "dense_11 (Dense)             (None, 10)                650       \n",
      "=================================================================\n",
      "Total params: 139,386\n",
      "Trainable params: 139,162\n",
      "Non-trainable params: 224\n",
      "_________________________________________________________________\n"
     ]
    }
   ],
   "source": [
    "from keras.layers.normalization.batch_normalization_v1 import BatchNormalization\n",
    "model = keras.Sequential()\n",
    "inp = keras.Input(shape = INPUT_SIZE)\n",
    "\n",
    "\n",
    "model.add(inp)\n",
    "model.add(Conv2D(16, 4,strides=2, padding=\"same\", activation=\"relu\"))\n",
    "model.add(layers.BatchNormalization())\n",
    "model.add(layers.Dropout(.3)) # adding dropout \n",
    "model.add(MaxPooling2D(pool_size=(2, 2)))\n",
    "model.add(Conv2D(32, 3,strides=1, padding=\"same\", activation=\"relu\"))\n",
    "model.add(Dropout(.3)) # adding dropout \n",
    "model.add(BatchNormalization())\n",
    "model.add(layers.MaxPooling2D(pool_size=(2, 2)))\n",
    "model.add(Conv2D(64, 5,strides=1, padding=\"same\", activation=\"relu\"))\n",
    "model.add(layers.Dropout(.3)) # adding dropout \n",
    "model.add(layers.BatchNormalization())\n",
    "\n",
    "model.add(Flatten())\n",
    "model.add(Dense(128, activation=\"relu\"))\n",
    "model.add(Dense(64, activation=\"relu\"))\n",
    "model.add(Dense(10, activation=\"softmax\"))\n",
    "\n",
    "\n",
    "model.summary()"
   ]
  },
  {
   "cell_type": "code",
   "execution_count": 20,
   "id": "644a6f24",
   "metadata": {},
   "outputs": [],
   "source": [
    "earlystop = tf.keras.callbacks.EarlyStopping(\n",
    "    monitor='val_loss', patience=15, verbose=1,\n",
    "    mode='auto', restore_best_weights=True\n",
    ")"
   ]
  },
  {
   "cell_type": "code",
   "execution_count": 21,
   "id": "3e74c415",
   "metadata": {},
   "outputs": [],
   "source": [
    "model.compile(loss = tf.keras.losses.CategoricalCrossentropy(), \n",
    "                optimizer = tf.keras.optimizers.Adam(), \n",
    "                metrics=[tf.keras.metrics.CategoricalAccuracy()])"
   ]
  },
  {
   "cell_type": "code",
   "execution_count": 22,
   "id": "2fec9dab",
   "metadata": {},
   "outputs": [
    {
     "name": "stdout",
     "output_type": "stream",
     "text": [
      "Epoch 1/20\n",
      "\n",
      "Epoch 00001: LearningRateScheduler setting learning rate to 1e-05.\n",
      "525/525 [==============================] - 6s 10ms/step - loss: 2.4426 - categorical_accuracy: 0.1326 - val_loss: 2.1972 - val_categorical_accuracy: 0.1602\n",
      "Epoch 2/20\n",
      "\n",
      "Epoch 00002: LearningRateScheduler setting learning rate to 0.005005.\n",
      "525/525 [==============================] - 5s 10ms/step - loss: 0.4632 - categorical_accuracy: 0.8521 - val_loss: 0.1553 - val_categorical_accuracy: 0.9624\n",
      "Epoch 3/20\n",
      "\n",
      "Epoch 00003: LearningRateScheduler setting learning rate to 0.01.\n",
      "525/525 [==============================] - 5s 10ms/step - loss: 0.3042 - categorical_accuracy: 0.9079 - val_loss: 0.3448 - val_categorical_accuracy: 0.8945\n",
      "Epoch 4/20\n",
      "\n",
      "Epoch 00004: LearningRateScheduler setting learning rate to 0.01.\n",
      "525/525 [==============================] - 6s 11ms/step - loss: 0.2416 - categorical_accuracy: 0.9281 - val_loss: 0.1198 - val_categorical_accuracy: 0.9726\n",
      "Epoch 5/20\n",
      "\n",
      "Epoch 00005: LearningRateScheduler setting learning rate to 0.007030000000000001.\n",
      "525/525 [==============================] - 6s 11ms/step - loss: 0.1782 - categorical_accuracy: 0.9455 - val_loss: 0.0979 - val_categorical_accuracy: 0.9733\n",
      "Epoch 6/20\n",
      "\n",
      "Epoch 00006: LearningRateScheduler setting learning rate to 0.004951.\n",
      "525/525 [==============================] - 6s 11ms/step - loss: 0.1538 - categorical_accuracy: 0.9525 - val_loss: 0.0619 - val_categorical_accuracy: 0.9833\n",
      "Epoch 7/20\n",
      "\n",
      "Epoch 00007: LearningRateScheduler setting learning rate to 0.003495699999999999.\n",
      "525/525 [==============================] - 5s 10ms/step - loss: 0.1333 - categorical_accuracy: 0.9582 - val_loss: 0.0555 - val_categorical_accuracy: 0.9849\n",
      "Epoch 8/20\n",
      "\n",
      "Epoch 00008: LearningRateScheduler setting learning rate to 0.0024769899999999997.\n",
      "525/525 [==============================] - 5s 10ms/step - loss: 0.1227 - categorical_accuracy: 0.9616 - val_loss: 0.0568 - val_categorical_accuracy: 0.9848\n",
      "Epoch 9/20\n",
      "\n",
      "Epoch 00009: LearningRateScheduler setting learning rate to 0.0017638929999999997.\n",
      "525/525 [==============================] - 6s 11ms/step - loss: 0.1142 - categorical_accuracy: 0.9634 - val_loss: 0.0502 - val_categorical_accuracy: 0.9871\n",
      "Epoch 10/20\n",
      "\n",
      "Epoch 00010: LearningRateScheduler setting learning rate to 0.0012647250999999998.\n",
      "525/525 [==============================] - 5s 10ms/step - loss: 0.1032 - categorical_accuracy: 0.9672 - val_loss: 0.0466 - val_categorical_accuracy: 0.9870\n",
      "Epoch 11/20\n",
      "\n",
      "Epoch 00011: LearningRateScheduler setting learning rate to 0.0009153075699999998.\n",
      "525/525 [==============================] - 5s 10ms/step - loss: 0.1022 - categorical_accuracy: 0.9683 - val_loss: 0.0451 - val_categorical_accuracy: 0.9881\n",
      "Epoch 12/20\n",
      "\n",
      "Epoch 00012: LearningRateScheduler setting learning rate to 0.0006707152989999998.\n",
      "525/525 [==============================] - 5s 10ms/step - loss: 0.0949 - categorical_accuracy: 0.9694 - val_loss: 0.0458 - val_categorical_accuracy: 0.9870\n",
      "Epoch 13/20\n",
      "\n",
      "Epoch 00013: LearningRateScheduler setting learning rate to 0.0004995007092999999.\n",
      "525/525 [==============================] - 5s 10ms/step - loss: 0.0885 - categorical_accuracy: 0.9719 - val_loss: 0.0499 - val_categorical_accuracy: 0.9867\n",
      "Epoch 14/20\n",
      "\n",
      "Epoch 00014: LearningRateScheduler setting learning rate to 0.0003796504965099998.\n",
      "525/525 [==============================] - 5s 10ms/step - loss: 0.0887 - categorical_accuracy: 0.9720 - val_loss: 0.0450 - val_categorical_accuracy: 0.9890\n",
      "Epoch 15/20\n",
      "\n",
      "Epoch 00015: LearningRateScheduler setting learning rate to 0.0002957553475569999.\n",
      "525/525 [==============================] - 5s 10ms/step - loss: 0.0865 - categorical_accuracy: 0.9722 - val_loss: 0.0441 - val_categorical_accuracy: 0.9893\n",
      "Epoch 16/20\n",
      "\n",
      "Epoch 00016: LearningRateScheduler setting learning rate to 0.00023702874328989992.\n",
      "525/525 [==============================] - 5s 10ms/step - loss: 0.0876 - categorical_accuracy: 0.9726 - val_loss: 0.0449 - val_categorical_accuracy: 0.9877\n",
      "Epoch 17/20\n",
      "\n",
      "Epoch 00017: LearningRateScheduler setting learning rate to 0.00019592012030292993.\n",
      "525/525 [==============================] - 6s 11ms/step - loss: 0.0812 - categorical_accuracy: 0.9734 - val_loss: 0.0450 - val_categorical_accuracy: 0.9874\n",
      "Epoch 18/20\n",
      "\n",
      "Epoch 00018: LearningRateScheduler setting learning rate to 0.00016714408421205095.\n",
      "525/525 [==============================] - 5s 10ms/step - loss: 0.0781 - categorical_accuracy: 0.9739 - val_loss: 0.0447 - val_categorical_accuracy: 0.9880\n",
      "Epoch 19/20\n",
      "\n",
      "Epoch 00019: LearningRateScheduler setting learning rate to 0.00014700085894843568.\n",
      "525/525 [==============================] - 5s 10ms/step - loss: 0.0854 - categorical_accuracy: 0.9725 - val_loss: 0.0418 - val_categorical_accuracy: 0.9885\n",
      "Epoch 20/20\n",
      "\n",
      "Epoch 00020: LearningRateScheduler setting learning rate to 0.00013290060126390496.\n",
      "525/525 [==============================] - 5s 10ms/step - loss: 0.0797 - categorical_accuracy: 0.9743 - val_loss: 0.0430 - val_categorical_accuracy: 0.9882\n"
     ]
    }
   ],
   "source": [
    "hist1 = model.fit(datagen.flow(X_train, Y_train,batch_size=64),validation_data = (X_valid, Y_valid),batch_size = 64,epochs = 20,callbacks=[lr_callback,earlystop])\n"
   ]
  },
  {
   "cell_type": "code",
   "execution_count": 23,
   "id": "ace7ed83",
   "metadata": {},
   "outputs": [],
   "source": [
    "model.compile(loss = tf.keras.losses.CategoricalCrossentropy(), \n",
    "                optimizer = tf.keras.optimizers.SGD(), # optimize with SGD\n",
    "                metrics=[tf.keras.metrics.CategoricalAccuracy()])"
   ]
  },
  {
   "cell_type": "code",
   "execution_count": 24,
   "id": "df6c845f",
   "metadata": {},
   "outputs": [],
   "source": [
    "reduce_lr = keras.callbacks.ReduceLROnPlateau(monitor='val_loss', factor=0.5,\n",
    "                              patience=3, min_lr=0.0001,verbose=1)"
   ]
  },
  {
   "cell_type": "code",
   "execution_count": 26,
   "id": "ae80848e",
   "metadata": {},
   "outputs": [
    {
     "name": "stdout",
     "output_type": "stream",
     "text": [
      "Epoch 1/60\n",
      "525/525 [==============================] - 5s 10ms/step - loss: 0.0810 - categorical_accuracy: 0.9746 - val_loss: 0.0414 - val_categorical_accuracy: 0.9883\n",
      "Epoch 2/60\n",
      "525/525 [==============================] - 5s 9ms/step - loss: 0.0804 - categorical_accuracy: 0.9740 - val_loss: 0.0416 - val_categorical_accuracy: 0.9885\n",
      "Epoch 3/60\n",
      "525/525 [==============================] - 5s 9ms/step - loss: 0.0783 - categorical_accuracy: 0.9748 - val_loss: 0.0415 - val_categorical_accuracy: 0.9885\n",
      "Epoch 4/60\n",
      "525/525 [==============================] - 5s 10ms/step - loss: 0.0773 - categorical_accuracy: 0.9753 - val_loss: 0.0415 - val_categorical_accuracy: 0.9885\n",
      "\n",
      "Epoch 00004: ReduceLROnPlateau reducing learning rate to 0.00015624999650754035.\n",
      "Epoch 5/60\n",
      "525/525 [==============================] - 5s 9ms/step - loss: 0.0794 - categorical_accuracy: 0.9747 - val_loss: 0.0416 - val_categorical_accuracy: 0.9885\n",
      "Epoch 6/60\n",
      "525/525 [==============================] - 5s 10ms/step - loss: 0.0769 - categorical_accuracy: 0.9757 - val_loss: 0.0417 - val_categorical_accuracy: 0.9885\n",
      "Epoch 7/60\n",
      "525/525 [==============================] - 5s 10ms/step - loss: 0.0799 - categorical_accuracy: 0.9743 - val_loss: 0.0417 - val_categorical_accuracy: 0.9885\n",
      "\n",
      "Epoch 00007: ReduceLROnPlateau reducing learning rate to 0.0001.\n",
      "Epoch 8/60\n",
      "525/525 [==============================] - 5s 9ms/step - loss: 0.0786 - categorical_accuracy: 0.9751 - val_loss: 0.0419 - val_categorical_accuracy: 0.9885\n",
      "Epoch 9/60\n",
      "525/525 [==============================] - 5s 10ms/step - loss: 0.0821 - categorical_accuracy: 0.9735 - val_loss: 0.0418 - val_categorical_accuracy: 0.9886\n",
      "Epoch 10/60\n",
      "525/525 [==============================] - 5s 10ms/step - loss: 0.0805 - categorical_accuracy: 0.9743 - val_loss: 0.0417 - val_categorical_accuracy: 0.9885\n",
      "Epoch 11/60\n",
      "525/525 [==============================] - 5s 10ms/step - loss: 0.0774 - categorical_accuracy: 0.9753 - val_loss: 0.0417 - val_categorical_accuracy: 0.9885\n",
      "Epoch 12/60\n",
      "525/525 [==============================] - 5s 10ms/step - loss: 0.0795 - categorical_accuracy: 0.9745 - val_loss: 0.0417 - val_categorical_accuracy: 0.9885\n",
      "Epoch 13/60\n",
      "525/525 [==============================] - 5s 10ms/step - loss: 0.0765 - categorical_accuracy: 0.9747 - val_loss: 0.0418 - val_categorical_accuracy: 0.9885\n",
      "Epoch 14/60\n",
      "525/525 [==============================] - 5s 10ms/step - loss: 0.0791 - categorical_accuracy: 0.9741 - val_loss: 0.0419 - val_categorical_accuracy: 0.9885\n",
      "Epoch 15/60\n",
      "525/525 [==============================] - 5s 10ms/step - loss: 0.0759 - categorical_accuracy: 0.9760 - val_loss: 0.0419 - val_categorical_accuracy: 0.9885\n",
      "Epoch 16/60\n",
      "525/525 [==============================] - 5s 10ms/step - loss: 0.0805 - categorical_accuracy: 0.9746 - val_loss: 0.0418 - val_categorical_accuracy: 0.9885\n",
      "Restoring model weights from the end of the best epoch.\n",
      "Epoch 00016: early stopping\n"
     ]
    }
   ],
   "source": [
    "hist2 = model.fit(datagen.flow(X_train, Y_train,batch_size=64),validation_data = (X_valid, Y_valid),batch_size = 128,epochs = 60,callbacks=[earlystop,reduce_lr])"
   ]
  },
  {
   "cell_type": "code",
   "execution_count": 27,
   "id": "07100d66",
   "metadata": {},
   "outputs": [
    {
     "data": {
      "image/png": "[encoded data removed]",
      "text/plain": [
       "<Figure size 432x288 with 1 Axes>"
      ]
     },
     "metadata": {
      "needs_background": "light"
     },
     "output_type": "display_data"
    }
   ],
   "source": [
    "plt.plot(hist1.history['loss'][1:]+hist2.history['loss'])\n",
    "plt.plot(hist1.history['val_loss'][1:]+hist2.history['val_loss'])\n",
    "plt.title('model loss')\n",
    "plt.ylabel('loss')\n",
    "plt.xlabel('epoch')\n",
    "plt.legend(['train', 'val'], loc='upper left')\n",
    "plt.show()"
   ]
  },
  {
   "cell_type": "code",
   "execution_count": 28,
   "id": "9ef90eca",
   "metadata": {},
   "outputs": [
    {
     "name": "stdout",
     "output_type": "stream",
     "text": [
      "Model: \"sequential_7\"\n",
      "_________________________________________________________________\n",
      "Layer (type)                 Output Shape              Param #   \n",
      "=================================================================\n",
      "conv2d_14 (Conv2D)           (None, 14, 14, 64)        1088      \n",
      "_________________________________________________________________\n",
      "batch_normalization_4 (Batch (None, 14, 14, 64)        256       \n",
      "_________________________________________________________________\n",
      "dropout_5 (Dropout)          (None, 14, 14, 64)        0         \n",
      "_________________________________________________________________\n",
      "max_pooling2d_9 (MaxPooling2 (None, 7, 7, 64)          0         \n",
      "_________________________________________________________________\n",
      "conv2d_15 (Conv2D)           (None, 4, 4, 32)          51232     \n",
      "_________________________________________________________________\n",
      "dropout_6 (Dropout)          (None, 4, 4, 32)          0         \n",
      "_________________________________________________________________\n",
      "batch_normalization_5 (Batch (None, 4, 4, 32)          128       \n",
      "_________________________________________________________________\n",
      "conv2d_16 (Conv2D)           (None, 2, 2, 32)          16416     \n",
      "_________________________________________________________________\n",
      "dropout_7 (Dropout)          (None, 2, 2, 32)          0         \n",
      "_________________________________________________________________\n",
      "batch_normalization_6 (Batch (None, 2, 2, 32)          128       \n",
      "_________________________________________________________________\n",
      "flatten_4 (Flatten)          (None, 128)               0         \n",
      "_________________________________________________________________\n",
      "dense_12 (Dense)             (None, 512)               66048     \n",
      "_________________________________________________________________\n",
      "dense_13 (Dense)             (None, 256)               131328    \n",
      "_________________________________________________________________\n",
      "dense_14 (Dense)             (None, 10)                2570      \n",
      "=================================================================\n",
      "Total params: 269,194\n",
      "Trainable params: 268,938\n",
      "Non-trainable params: 256\n",
      "_________________________________________________________________\n"
     ]
    }
   ],
   "source": [
    "from keras.layers.normalization.batch_normalization_v1 import BatchNormalization\n",
    "model = keras.Sequential()\n",
    "inp = keras.Input(shape = INPUT_SIZE)\n",
    "\n",
    "\n",
    "model.add(inp)\n",
    "model.add(Conv2D(64, 4,strides=2, padding=\"same\", activation=\"relu\"))\n",
    "model.add(layers.BatchNormalization())\n",
    "model.add(layers.Dropout(.2)) # adding dropout \n",
    "model.add(MaxPooling2D(pool_size=(2, 2)))\n",
    "model.add(Conv2D(32, 5,strides=2, padding=\"same\", activation=\"relu\"))\n",
    "model.add(Dropout(.2)) # adding dropout \n",
    "model.add(BatchNormalization())\n",
    "model.add(Conv2D(32, 4,strides=2, padding=\"same\", activation=\"relu\"))\n",
    "\n",
    "model.add(layers.Dropout(.2)) # adding dropout \n",
    "model.add(layers.BatchNormalization())\n",
    "\n",
    "model.add(Flatten())\n",
    "model.add(Dense(512, activation=\"relu\"))\n",
    "model.add(Dense(256, activation=\"relu\"))\n",
    "model.add(Dense(10, activation=\"softmax\"))\n",
    "\n",
    "\n",
    "model.summary()"
   ]
  },
  {
   "cell_type": "code",
   "execution_count": 29,
   "id": "b16e5f90",
   "metadata": {},
   "outputs": [],
   "source": [
    "model.compile(loss = tf.keras.losses.CategoricalCrossentropy(), \n",
    "                optimizer = tf.keras.optimizers.Adam(), \n",
    "                metrics=[tf.keras.metrics.CategoricalAccuracy()])"
   ]
  },
  {
   "cell_type": "code",
   "execution_count": 30,
   "id": "ac3ec711",
   "metadata": {},
   "outputs": [
    {
     "name": "stdout",
     "output_type": "stream",
     "text": [
      "Epoch 1/20\n",
      "\n",
      "Epoch 00001: LearningRateScheduler setting learning rate to 1e-05.\n",
      "525/525 [==============================] - 7s 12ms/step - loss: 2.1629 - categorical_accuracy: 0.2399 - val_loss: 1.9801 - val_categorical_accuracy: 0.4031\n",
      "Epoch 2/20\n",
      "\n",
      "Epoch 00002: LearningRateScheduler setting learning rate to 0.005005.\n",
      "525/525 [==============================] - 6s 11ms/step - loss: 0.4473 - categorical_accuracy: 0.8584 - val_loss: 0.1566 - val_categorical_accuracy: 0.9536\n",
      "Epoch 3/20\n",
      "\n",
      "Epoch 00003: LearningRateScheduler setting learning rate to 0.01.\n",
      "525/525 [==============================] - 6s 11ms/step - loss: 0.2986 - categorical_accuracy: 0.9122 - val_loss: 0.1046 - val_categorical_accuracy: 0.9702\n",
      "Epoch 4/20\n",
      "\n",
      "Epoch 00004: LearningRateScheduler setting learning rate to 0.01.\n",
      "525/525 [==============================] - 6s 11ms/step - loss: 0.2288 - categorical_accuracy: 0.9321 - val_loss: 0.1912 - val_categorical_accuracy: 0.9510\n",
      "Epoch 5/20\n",
      "\n",
      "Epoch 00005: LearningRateScheduler setting learning rate to 0.007030000000000001.\n",
      "525/525 [==============================] - 5s 10ms/step - loss: 0.1705 - categorical_accuracy: 0.9495 - val_loss: 0.0843 - val_categorical_accuracy: 0.9768\n",
      "Epoch 6/20\n",
      "\n",
      "Epoch 00006: LearningRateScheduler setting learning rate to 0.004951.\n",
      "525/525 [==============================] - 5s 10ms/step - loss: 0.1377 - categorical_accuracy: 0.9571 - val_loss: 0.0590 - val_categorical_accuracy: 0.9833\n",
      "Epoch 7/20\n",
      "\n",
      "Epoch 00007: LearningRateScheduler setting learning rate to 0.003495699999999999.\n",
      "525/525 [==============================] - 6s 11ms/step - loss: 0.1237 - categorical_accuracy: 0.9632 - val_loss: 0.0452 - val_categorical_accuracy: 0.9863\n",
      "Epoch 8/20\n",
      "\n",
      "Epoch 00008: LearningRateScheduler setting learning rate to 0.0024769899999999997.\n",
      "525/525 [==============================] - 6s 11ms/step - loss: 0.1116 - categorical_accuracy: 0.9657 - val_loss: 0.0941 - val_categorical_accuracy: 0.9732\n",
      "Epoch 9/20\n",
      "\n",
      "Epoch 00009: LearningRateScheduler setting learning rate to 0.0017638929999999997.\n",
      "525/525 [==============================] - 6s 11ms/step - loss: 0.1022 - categorical_accuracy: 0.9683 - val_loss: 0.0486 - val_categorical_accuracy: 0.9861\n",
      "Epoch 10/20\n",
      "\n",
      "Epoch 00010: LearningRateScheduler setting learning rate to 0.0012647250999999998.\n",
      "525/525 [==============================] - 6s 11ms/step - loss: 0.0903 - categorical_accuracy: 0.9723 - val_loss: 0.0401 - val_categorical_accuracy: 0.9889\n",
      "Epoch 11/20\n",
      "\n",
      "Epoch 00011: LearningRateScheduler setting learning rate to 0.0009153075699999998.\n",
      "525/525 [==============================] - 6s 11ms/step - loss: 0.0889 - categorical_accuracy: 0.9716 - val_loss: 0.0393 - val_categorical_accuracy: 0.9893\n",
      "Epoch 12/20\n",
      "\n",
      "Epoch 00012: LearningRateScheduler setting learning rate to 0.0006707152989999998.\n",
      "525/525 [==============================] - 6s 11ms/step - loss: 0.0862 - categorical_accuracy: 0.9737 - val_loss: 0.0374 - val_categorical_accuracy: 0.9900\n",
      "Epoch 13/20\n",
      "\n",
      "Epoch 00013: LearningRateScheduler setting learning rate to 0.0004995007092999999.\n",
      "525/525 [==============================] - 6s 11ms/step - loss: 0.0770 - categorical_accuracy: 0.9745 - val_loss: 0.0350 - val_categorical_accuracy: 0.9895\n",
      "Epoch 14/20\n",
      "\n",
      "Epoch 00014: LearningRateScheduler setting learning rate to 0.0003796504965099998.\n",
      "525/525 [==============================] - 5s 10ms/step - loss: 0.0788 - categorical_accuracy: 0.9752 - val_loss: 0.0363 - val_categorical_accuracy: 0.9905\n",
      "Epoch 15/20\n",
      "\n",
      "Epoch 00015: LearningRateScheduler setting learning rate to 0.0002957553475569999.\n",
      "525/525 [==============================] - 6s 12ms/step - loss: 0.0734 - categorical_accuracy: 0.9772 - val_loss: 0.0369 - val_categorical_accuracy: 0.9895\n",
      "Epoch 16/20\n",
      "\n",
      "Epoch 00016: LearningRateScheduler setting learning rate to 0.00023702874328989992.\n",
      "525/525 [==============================] - 6s 11ms/step - loss: 0.0738 - categorical_accuracy: 0.9767 - val_loss: 0.0370 - val_categorical_accuracy: 0.9896\n",
      "Epoch 17/20\n",
      "\n",
      "Epoch 00017: LearningRateScheduler setting learning rate to 0.00019592012030292993.\n",
      "525/525 [==============================] - 6s 10ms/step - loss: 0.0743 - categorical_accuracy: 0.9761 - val_loss: 0.0339 - val_categorical_accuracy: 0.9898\n",
      "Epoch 18/20\n",
      "\n",
      "Epoch 00018: LearningRateScheduler setting learning rate to 0.00016714408421205095.\n",
      "525/525 [==============================] - 6s 11ms/step - loss: 0.0712 - categorical_accuracy: 0.9773 - val_loss: 0.0345 - val_categorical_accuracy: 0.9901\n",
      "Epoch 19/20\n",
      "\n",
      "Epoch 00019: LearningRateScheduler setting learning rate to 0.00014700085894843568.\n",
      "525/525 [==============================] - 5s 10ms/step - loss: 0.0744 - categorical_accuracy: 0.9763 - val_loss: 0.0350 - val_categorical_accuracy: 0.9896\n",
      "Epoch 20/20\n",
      "\n",
      "Epoch 00020: LearningRateScheduler setting learning rate to 0.00013290060126390496.\n",
      "525/525 [==============================] - 6s 11ms/step - loss: 0.0737 - categorical_accuracy: 0.9767 - val_loss: 0.0357 - val_categorical_accuracy: 0.9896\n"
     ]
    }
   ],
   "source": [
    "hist1 = model.fit(datagen.flow(X_train, Y_train,batch_size=64),validation_data = (X_valid, Y_valid),epochs = 20,callbacks=[lr_callback,earlystop])"
   ]
  },
  {
   "cell_type": "code",
   "execution_count": 31,
   "id": "15823ad6",
   "metadata": {},
   "outputs": [],
   "source": [
    "model.compile(loss = tf.keras.losses.CategoricalCrossentropy(), \n",
    "                optimizer = tf.keras.optimizers.SGD(), # optimize with SGD\n",
    "                metrics=[tf.keras.metrics.CategoricalAccuracy()])"
   ]
  },
  {
   "cell_type": "code",
   "execution_count": 32,
   "id": "2777f6fc",
   "metadata": {},
   "outputs": [],
   "source": [
    "reduce_lr = keras.callbacks.ReduceLROnPlateau(monitor='val_loss', factor=0.5,\n",
    "                              patience=3, min_lr=0.0001,verbose=1)"
   ]
  },
  {
   "cell_type": "code",
   "execution_count": 33,
   "id": "ca7c0acf",
   "metadata": {},
   "outputs": [
    {
     "name": "stdout",
     "output_type": "stream",
     "text": [
      "Epoch 1/40\n",
      "263/263 [==============================] - 5s 19ms/step - loss: 0.0657 - categorical_accuracy: 0.9789 - val_loss: 0.0349 - val_categorical_accuracy: 0.9900\n",
      "Epoch 2/40\n",
      "263/263 [==============================] - 5s 18ms/step - loss: 0.0691 - categorical_accuracy: 0.9784 - val_loss: 0.0350 - val_categorical_accuracy: 0.9898\n",
      "Epoch 3/40\n",
      "263/263 [==============================] - 5s 18ms/step - loss: 0.0671 - categorical_accuracy: 0.9791 - val_loss: 0.0350 - val_categorical_accuracy: 0.9896\n",
      "Epoch 4/40\n",
      "263/263 [==============================] - 5s 19ms/step - loss: 0.0707 - categorical_accuracy: 0.9773 - val_loss: 0.0345 - val_categorical_accuracy: 0.9901\n",
      "Epoch 5/40\n",
      "263/263 [==============================] - 5s 18ms/step - loss: 0.0708 - categorical_accuracy: 0.9780 - val_loss: 0.0347 - val_categorical_accuracy: 0.9902\n",
      "Epoch 6/40\n",
      "263/263 [==============================] - 5s 19ms/step - loss: 0.0711 - categorical_accuracy: 0.9780 - val_loss: 0.0344 - val_categorical_accuracy: 0.9900\n",
      "Epoch 7/40\n",
      "263/263 [==============================] - 5s 18ms/step - loss: 0.0687 - categorical_accuracy: 0.9774 - val_loss: 0.0344 - val_categorical_accuracy: 0.9900\n",
      "Epoch 8/40\n",
      "263/263 [==============================] - 5s 18ms/step - loss: 0.0664 - categorical_accuracy: 0.9788 - val_loss: 0.0344 - val_categorical_accuracy: 0.9902\n",
      "Epoch 9/40\n",
      "263/263 [==============================] - 5s 19ms/step - loss: 0.0673 - categorical_accuracy: 0.9781 - val_loss: 0.0347 - val_categorical_accuracy: 0.9898\n",
      "\n",
      "Epoch 00009: ReduceLROnPlateau reducing learning rate to 0.004999999888241291.\n",
      "Epoch 10/40\n",
      "263/263 [==============================] - 5s 18ms/step - loss: 0.0675 - categorical_accuracy: 0.9789 - val_loss: 0.0345 - val_categorical_accuracy: 0.9900\n",
      "Epoch 11/40\n",
      "263/263 [==============================] - 5s 18ms/step - loss: 0.0690 - categorical_accuracy: 0.9779 - val_loss: 0.0344 - val_categorical_accuracy: 0.9902\n",
      "Epoch 12/40\n",
      "263/263 [==============================] - 5s 19ms/step - loss: 0.0677 - categorical_accuracy: 0.9788 - val_loss: 0.0343 - val_categorical_accuracy: 0.9904\n",
      "Epoch 13/40\n",
      "263/263 [==============================] - 5s 18ms/step - loss: 0.0677 - categorical_accuracy: 0.9781 - val_loss: 0.0344 - val_categorical_accuracy: 0.9904\n",
      "Epoch 14/40\n",
      "263/263 [==============================] - 5s 19ms/step - loss: 0.0661 - categorical_accuracy: 0.9779 - val_loss: 0.0342 - val_categorical_accuracy: 0.9904\n",
      "Epoch 15/40\n",
      "263/263 [==============================] - 5s 18ms/step - loss: 0.0681 - categorical_accuracy: 0.9786 - val_loss: 0.0341 - val_categorical_accuracy: 0.9905\n",
      "Epoch 16/40\n",
      "263/263 [==============================] - 5s 18ms/step - loss: 0.0707 - categorical_accuracy: 0.9775 - val_loss: 0.0344 - val_categorical_accuracy: 0.9902\n",
      "Epoch 17/40\n",
      "263/263 [==============================] - 5s 20ms/step - loss: 0.0662 - categorical_accuracy: 0.9790 - val_loss: 0.0344 - val_categorical_accuracy: 0.9906\n",
      "Epoch 18/40\n",
      "263/263 [==============================] - 5s 18ms/step - loss: 0.0669 - categorical_accuracy: 0.9783 - val_loss: 0.0346 - val_categorical_accuracy: 0.9905\n",
      "\n",
      "Epoch 00018: ReduceLROnPlateau reducing learning rate to 0.0024999999441206455.\n",
      "Epoch 19/40\n",
      "263/263 [==============================] - 5s 18ms/step - loss: 0.0700 - categorical_accuracy: 0.9782 - val_loss: 0.0346 - val_categorical_accuracy: 0.9904\n",
      "Epoch 20/40\n",
      "263/263 [==============================] - 5s 19ms/step - loss: 0.0728 - categorical_accuracy: 0.9772 - val_loss: 0.0345 - val_categorical_accuracy: 0.9904\n",
      "Epoch 21/40\n",
      "263/263 [==============================] - 5s 18ms/step - loss: 0.0666 - categorical_accuracy: 0.9788 - val_loss: 0.0345 - val_categorical_accuracy: 0.9905\n",
      "\n",
      "Epoch 00021: ReduceLROnPlateau reducing learning rate to 0.0012499999720603228.\n",
      "Epoch 22/40\n",
      "263/263 [==============================] - 5s 19ms/step - loss: 0.0656 - categorical_accuracy: 0.9794 - val_loss: 0.0345 - val_categorical_accuracy: 0.9905\n",
      "Epoch 23/40\n",
      "263/263 [==============================] - 5s 19ms/step - loss: 0.0688 - categorical_accuracy: 0.9779 - val_loss: 0.0345 - val_categorical_accuracy: 0.9905\n",
      "Epoch 24/40\n",
      "263/263 [==============================] - 5s 19ms/step - loss: 0.0693 - categorical_accuracy: 0.9776 - val_loss: 0.0344 - val_categorical_accuracy: 0.9905\n",
      "\n",
      "Epoch 00024: ReduceLROnPlateau reducing learning rate to 0.0006249999860301614.\n",
      "Epoch 25/40\n",
      "263/263 [==============================] - 5s 20ms/step - loss: 0.0653 - categorical_accuracy: 0.9804 - val_loss: 0.0345 - val_categorical_accuracy: 0.9905\n",
      "Epoch 26/40\n",
      "263/263 [==============================] - 5s 19ms/step - loss: 0.0688 - categorical_accuracy: 0.9780 - val_loss: 0.0345 - val_categorical_accuracy: 0.9905\n",
      "Epoch 27/40\n",
      "263/263 [==============================] - 5s 19ms/step - loss: 0.0695 - categorical_accuracy: 0.9782 - val_loss: 0.0343 - val_categorical_accuracy: 0.9905\n",
      "\n",
      "Epoch 00027: ReduceLROnPlateau reducing learning rate to 0.0003124999930150807.\n",
      "Epoch 28/40\n",
      "263/263 [==============================] - 5s 19ms/step - loss: 0.0682 - categorical_accuracy: 0.9792 - val_loss: 0.0344 - val_categorical_accuracy: 0.9905\n",
      "Epoch 29/40\n",
      "263/263 [==============================] - 5s 19ms/step - loss: 0.0658 - categorical_accuracy: 0.9785 - val_loss: 0.0344 - val_categorical_accuracy: 0.9905\n",
      "Epoch 30/40\n",
      "263/263 [==============================] - 5s 19ms/step - loss: 0.0645 - categorical_accuracy: 0.9789 - val_loss: 0.0343 - val_categorical_accuracy: 0.9905\n",
      "Restoring model weights from the end of the best epoch.\n",
      "\n",
      "Epoch 00030: ReduceLROnPlateau reducing learning rate to 0.00015624999650754035.\n",
      "Epoch 00030: early stopping\n"
     ]
    }
   ],
   "source": [
    "hist2 = model.fit(datagen.flow(X_train, Y_train,batch_size=128),validation_data = (X_valid, Y_valid),batch_size = 128,epochs = 40,callbacks=[earlystop,reduce_lr])"
   ]
  },
  {
   "cell_type": "code",
   "execution_count": 34,
   "id": "2133d95b",
   "metadata": {},
   "outputs": [
    {
     "data": {
      "image/png": "[encoded data removed]",
      "text/plain": [
       "<Figure size 432x288 with 1 Axes>"
      ]
     },
     "metadata": {
      "needs_background": "light"
     },
     "output_type": "display_data"
    }
   ],
   "source": [
    "plt.plot(hist1.history['loss'][1:]+hist2.history['loss'])\n",
    "plt.plot(hist1.history['val_loss'][1:]+hist2.history['val_loss'])\n",
    "plt.title('model loss')\n",
    "plt.ylabel('loss')\n",
    "plt.xlabel('epoch')\n",
    "plt.legend(['train', 'val'], loc='upper left')\n",
    "plt.show()"
   ]
  },
  {
   "cell_type": "code",
   "execution_count": 35,
   "id": "ff0fc19d",
   "metadata": {},
   "outputs": [],
   "source": [
    "def viz_num(num):\n",
    "    #Reshape the 768 values to a 28x28 image\n",
    "    image = X_valid[num].reshape([28,28])\n",
    "    plt.title('Sample: %d  Label: %d , pred : %d' % (num, y_valid.iloc[num],model.predict(X_valid)[num].argmax()))\n",
    "    plt.imshow(image, cmap=plt.get_cmap('gray'))\n",
    "    plt.show()"
   ]
  },
  {
   "cell_type": "code",
   "execution_count": 36,
   "id": "155fc1f6",
   "metadata": {},
   "outputs": [
    {
     "ename": "ValueError",
     "evalue": "attempt to get argmin of an empty sequence",
     "output_type": "error",
     "traceback": [
      "\u001b[1;31m---------------------------------------------------------------------------\u001b[0m",
      "\u001b[1;31mValueError\u001b[0m                                Traceback (most recent call last)",
      "\u001b[1;32m<ipython-input-36-b71f3d963765>\u001b[0m in \u001b[0;36m<module>\u001b[1;34m\u001b[0m\n\u001b[0;32m      5\u001b[0m \u001b[0mnum2\u001b[0m \u001b[1;33m=\u001b[0m \u001b[0mnp\u001b[0m\u001b[1;33m.\u001b[0m\u001b[0margmin\u001b[0m\u001b[1;33m(\u001b[0m\u001b[0mdis_match\u001b[0m\u001b[1;33m)\u001b[0m\u001b[1;33m\u001b[0m\u001b[1;33m\u001b[0m\u001b[0m\n\u001b[0;32m      6\u001b[0m \u001b[0mdis_match\u001b[0m \u001b[1;33m=\u001b[0m \u001b[0mdis_match\u001b[0m\u001b[1;33m[\u001b[0m\u001b[1;33m:\u001b[0m\u001b[0mnum2\u001b[0m\u001b[1;33m]\u001b[0m\u001b[1;33m\u001b[0m\u001b[1;33m\u001b[0m\u001b[0m\n\u001b[1;32m----> 7\u001b[1;33m \u001b[0mnum3\u001b[0m \u001b[1;33m=\u001b[0m \u001b[0mnp\u001b[0m\u001b[1;33m.\u001b[0m\u001b[0margmin\u001b[0m\u001b[1;33m(\u001b[0m\u001b[0mdis_match\u001b[0m\u001b[1;33m)\u001b[0m\u001b[1;33m\u001b[0m\u001b[1;33m\u001b[0m\u001b[0m\n\u001b[0m",
      "\u001b[1;32m<__array_function__ internals>\u001b[0m in \u001b[0;36margmin\u001b[1;34m(*args, **kwargs)\u001b[0m\n",
      "\u001b[1;32m~\\AppData\\Roaming\\Python\\Python36\\site-packages\\numpy\\core\\fromnumeric.py\u001b[0m in \u001b[0;36margmin\u001b[1;34m(a, axis, out)\u001b[0m\n\u001b[0;32m   1267\u001b[0m \u001b[1;33m\u001b[0m\u001b[0m\n\u001b[0;32m   1268\u001b[0m     \"\"\"\n\u001b[1;32m-> 1269\u001b[1;33m     \u001b[1;32mreturn\u001b[0m \u001b[0m_wrapfunc\u001b[0m\u001b[1;33m(\u001b[0m\u001b[0ma\u001b[0m\u001b[1;33m,\u001b[0m \u001b[1;34m'argmin'\u001b[0m\u001b[1;33m,\u001b[0m \u001b[0maxis\u001b[0m\u001b[1;33m=\u001b[0m\u001b[0maxis\u001b[0m\u001b[1;33m,\u001b[0m \u001b[0mout\u001b[0m\u001b[1;33m=\u001b[0m\u001b[0mout\u001b[0m\u001b[1;33m)\u001b[0m\u001b[1;33m\u001b[0m\u001b[1;33m\u001b[0m\u001b[0m\n\u001b[0m\u001b[0;32m   1270\u001b[0m \u001b[1;33m\u001b[0m\u001b[0m\n\u001b[0;32m   1271\u001b[0m \u001b[1;33m\u001b[0m\u001b[0m\n",
      "\u001b[1;32m~\\AppData\\Roaming\\Python\\Python36\\site-packages\\numpy\\core\\fromnumeric.py\u001b[0m in \u001b[0;36m_wrapfunc\u001b[1;34m(obj, method, *args, **kwds)\u001b[0m\n\u001b[0;32m     53\u001b[0m     \u001b[0mbound\u001b[0m \u001b[1;33m=\u001b[0m \u001b[0mgetattr\u001b[0m\u001b[1;33m(\u001b[0m\u001b[0mobj\u001b[0m\u001b[1;33m,\u001b[0m \u001b[0mmethod\u001b[0m\u001b[1;33m,\u001b[0m \u001b[1;32mNone\u001b[0m\u001b[1;33m)\u001b[0m\u001b[1;33m\u001b[0m\u001b[1;33m\u001b[0m\u001b[0m\n\u001b[0;32m     54\u001b[0m     \u001b[1;32mif\u001b[0m \u001b[0mbound\u001b[0m \u001b[1;32mis\u001b[0m \u001b[1;32mNone\u001b[0m\u001b[1;33m:\u001b[0m\u001b[1;33m\u001b[0m\u001b[1;33m\u001b[0m\u001b[0m\n\u001b[1;32m---> 55\u001b[1;33m         \u001b[1;32mreturn\u001b[0m \u001b[0m_wrapit\u001b[0m\u001b[1;33m(\u001b[0m\u001b[0mobj\u001b[0m\u001b[1;33m,\u001b[0m \u001b[0mmethod\u001b[0m\u001b[1;33m,\u001b[0m \u001b[1;33m*\u001b[0m\u001b[0margs\u001b[0m\u001b[1;33m,\u001b[0m \u001b[1;33m**\u001b[0m\u001b[0mkwds\u001b[0m\u001b[1;33m)\u001b[0m\u001b[1;33m\u001b[0m\u001b[1;33m\u001b[0m\u001b[0m\n\u001b[0m\u001b[0;32m     56\u001b[0m \u001b[1;33m\u001b[0m\u001b[0m\n\u001b[0;32m     57\u001b[0m     \u001b[1;32mtry\u001b[0m\u001b[1;33m:\u001b[0m\u001b[1;33m\u001b[0m\u001b[1;33m\u001b[0m\u001b[0m\n",
      "\u001b[1;32m~\\AppData\\Roaming\\Python\\Python36\\site-packages\\numpy\\core\\fromnumeric.py\u001b[0m in \u001b[0;36m_wrapit\u001b[1;34m(obj, method, *args, **kwds)\u001b[0m\n\u001b[0;32m     42\u001b[0m     \u001b[1;32mexcept\u001b[0m \u001b[0mAttributeError\u001b[0m\u001b[1;33m:\u001b[0m\u001b[1;33m\u001b[0m\u001b[1;33m\u001b[0m\u001b[0m\n\u001b[0;32m     43\u001b[0m         \u001b[0mwrap\u001b[0m \u001b[1;33m=\u001b[0m \u001b[1;32mNone\u001b[0m\u001b[1;33m\u001b[0m\u001b[1;33m\u001b[0m\u001b[0m\n\u001b[1;32m---> 44\u001b[1;33m     \u001b[0mresult\u001b[0m \u001b[1;33m=\u001b[0m \u001b[0mgetattr\u001b[0m\u001b[1;33m(\u001b[0m\u001b[0masarray\u001b[0m\u001b[1;33m(\u001b[0m\u001b[0mobj\u001b[0m\u001b[1;33m)\u001b[0m\u001b[1;33m,\u001b[0m \u001b[0mmethod\u001b[0m\u001b[1;33m)\u001b[0m\u001b[1;33m(\u001b[0m\u001b[1;33m*\u001b[0m\u001b[0margs\u001b[0m\u001b[1;33m,\u001b[0m \u001b[1;33m**\u001b[0m\u001b[0mkwds\u001b[0m\u001b[1;33m)\u001b[0m\u001b[1;33m\u001b[0m\u001b[1;33m\u001b[0m\u001b[0m\n\u001b[0m\u001b[0;32m     45\u001b[0m     \u001b[1;32mif\u001b[0m \u001b[0mwrap\u001b[0m\u001b[1;33m:\u001b[0m\u001b[1;33m\u001b[0m\u001b[1;33m\u001b[0m\u001b[0m\n\u001b[0;32m     46\u001b[0m         \u001b[1;32mif\u001b[0m \u001b[1;32mnot\u001b[0m \u001b[0misinstance\u001b[0m\u001b[1;33m(\u001b[0m\u001b[0mresult\u001b[0m\u001b[1;33m,\u001b[0m \u001b[0mmu\u001b[0m\u001b[1;33m.\u001b[0m\u001b[0mndarray\u001b[0m\u001b[1;33m)\u001b[0m\u001b[1;33m:\u001b[0m\u001b[1;33m\u001b[0m\u001b[1;33m\u001b[0m\u001b[0m\n",
      "\u001b[1;31mValueError\u001b[0m: attempt to get argmin of an empty sequence"
     ]
    }
   ],
   "source": [
    "pred = model.predict(X_valid).argmax(axis=1)\n",
    "dis_match = list(y_valid-pred)\n",
    "num1 = np.argmin(dis_match)\n",
    "dis_match = dis_match[:num1]\n",
    "num2 = np.argmin(dis_match)\n",
    "dis_match = dis_match[:num2]\n",
    "num3 = np.argmin(dis_match)"
   ]
  },
  {
   "cell_type": "code",
   "execution_count": 37,
   "id": "27299de2",
   "metadata": {},
   "outputs": [
    {
     "ename": "NameError",
     "evalue": "name 'num3' is not defined",
     "output_type": "error",
     "traceback": [
      "\u001b[1;31m---------------------------------------------------------------------------\u001b[0m",
      "\u001b[1;31mNameError\u001b[0m                                 Traceback (most recent call last)",
      "\u001b[1;32m<ipython-input-37-7f9e7a6a6278>\u001b[0m in \u001b[0;36m<module>\u001b[1;34m\u001b[0m\n\u001b[1;32m----> 1\u001b[1;33m \u001b[0mviz_num\u001b[0m\u001b[1;33m(\u001b[0m\u001b[0mnum3\u001b[0m\u001b[1;33m)\u001b[0m\u001b[1;33m\u001b[0m\u001b[1;33m\u001b[0m\u001b[0m\n\u001b[0m",
      "\u001b[1;31mNameError\u001b[0m: name 'num3' is not defined"
     ]
    }
   ],
   "source": [
    "viz_num(num3)"
   ]
  },
  {
   "cell_type": "code",
   "execution_count": 38,
   "id": "a2fbb816",
   "metadata": {},
   "outputs": [
    {
     "data": {
      "text/html": [
       "<div>\n",
       "<style scoped>\n",
       "    .dataframe tbody tr th:only-of-type {\n",
       "        vertical-align: middle;\n",
       "    }\n",
       "\n",
       "    .dataframe tbody tr th {\n",
       "        vertical-align: top;\n",
       "    }\n",
       "\n",
       "    .dataframe thead th {\n",
       "        text-align: right;\n",
       "    }\n",
       "</style>\n",
       "<table border=\"1\" class=\"dataframe\">\n",
       "  <thead>\n",
       "    <tr style=\"text-align: right;\">\n",
       "      <th></th>\n",
       "      <th>ImageId</th>\n",
       "      <th>Label</th>\n",
       "    </tr>\n",
       "  </thead>\n",
       "  <tbody>\n",
       "    <tr>\n",
       "      <th>0</th>\n",
       "      <td>1</td>\n",
       "      <td>2</td>\n",
       "    </tr>\n",
       "    <tr>\n",
       "      <th>1</th>\n",
       "      <td>2</td>\n",
       "      <td>0</td>\n",
       "    </tr>\n",
       "    <tr>\n",
       "      <th>2</th>\n",
       "      <td>3</td>\n",
       "      <td>9</td>\n",
       "    </tr>\n",
       "    <tr>\n",
       "      <th>3</th>\n",
       "      <td>4</td>\n",
       "      <td>0</td>\n",
       "    </tr>\n",
       "    <tr>\n",
       "      <th>4</th>\n",
       "      <td>5</td>\n",
       "      <td>3</td>\n",
       "    </tr>\n",
       "  </tbody>\n",
       "</table>\n",
       "</div>"
      ],
      "text/plain": [
       "   ImageId  Label\n",
       "0        1      2\n",
       "1        2      0\n",
       "2        3      9\n",
       "3        4      0\n",
       "4        5      3"
      ]
     },
     "execution_count": 38,
     "metadata": {},
     "output_type": "execute_result"
    }
   ],
   "source": [
    "submission['Label'] = model.predict(X_test).argmax(axis=-1)\n",
    "submission.head()"
   ]
  },
  {
   "cell_type": "code",
   "execution_count": 39,
   "id": "969390f1",
   "metadata": {},
   "outputs": [],
   "source": [
    "submission.to_csv('submission1.csv', index=False)"
   ]
  }
 ],
 "metadata": {
  "kernelspec": {
   "display_name": "Python [conda env:tensorflow-gpu] *",
   "language": "python",
   "name": "conda-env-tensorflow-gpu-py"
  },
  "language_info": {
   "codemirror_mode": {
    "name": "ipython",
    "version": 3
   },
   "file_extension": ".py",
   "mimetype": "text/x-python",
   "name": "python",
   "nbconvert_exporter": "python",
   "pygments_lexer": "ipython3",
   "version": "3.6.13"
  }
 },
 "nbformat": 4,
 "nbformat_minor": 5
}
